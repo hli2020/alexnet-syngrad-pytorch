{
 "cells": [
  {
   "cell_type": "code",
   "execution_count": 98,
   "metadata": {},
   "outputs": [],
   "source": [
    "import numpy as np\n",
    "import matplotlib.pyplot as plt\n",
    "# import matplotlib.pyplot as plt2   # why?\n",
    "import pandas as pd\n",
    "from pandas import datetime\n",
    "import math, time\n",
    "import itertools\n",
    "from sklearn import preprocessing\n",
    "import datetime\n",
    "from sklearn.metrics import mean_squared_error\n",
    "from math import sqrt\n",
    "from keras.models import Sequential\n",
    "from keras.layers.core import Dense, Dropout, Activation\n",
    "from keras.layers.recurrent import LSTM\n",
    "from keras.models import load_model\n",
    "import keras\n",
    "pd.core.common.is_list_like = pd.api.types.is_list_like\n",
    "import pandas_datareader.data as web\n",
    "import h5py\n",
    "\n",
    "import fix_yahoo_finance as yf\n",
    "# yf.pdr_override() # <== that's all it takes :-)"
   ]
  },
  {
   "cell_type": "markdown",
   "metadata": {},
   "source": [
    "# Stock prediction using LSTM"
   ]
  },
  {
   "cell_type": "markdown",
   "metadata": {},
   "source": [
    "Install the prerequisite packages above. We use Keras as the implementation tool.\n",
    "\n",
    "Input parameters below."
   ]
  },
  {
   "cell_type": "code",
   "execution_count": 7,
   "metadata": {},
   "outputs": [],
   "source": [
    "stock_name = '^GSPC'\n",
    "seq_len = 22                # the total length of a sample, x_t\n",
    "d = 0.2                     # dropout rate\n",
    "shape = [4, seq_len, 1]     # feature, window, output; \n",
    "                            # 4 stands for different numbers of the stock (open, high, low and adjacent)\n",
    "neurons = [128, 128, 32, 1] # defines the network structure\n",
    "epochs = 20                 # 300"
   ]
  },
  {
   "cell_type": "markdown",
   "metadata": {},
   "source": [
    "### Step 1: Downlaod the data and preprocess\n",
    "Data since 1950 to day"
   ]
  },
  {
   "cell_type": "code",
   "execution_count": 23,
   "metadata": {},
   "outputs": [],
   "source": [
    "def get_stock_data(stock_name, normalize=True):\n",
    "    start = datetime.datetime(1950, 1, 1)\n",
    "    end = datetime.date.today()\n",
    "    # df = web.DataReader(stock_name, \"yahoo\", start, end)\n",
    "    df = web.get_data_yahoo(stock_name, start, end)\n",
    "    df.drop(['Volume', 'Close'], 1, inplace=True)\n",
    "    \n",
    "    if normalize:        \n",
    "        min_max_scaler = preprocessing.MinMaxScaler()\n",
    "        df['Open'] = min_max_scaler.fit_transform(df.Open.values.reshape(-1,1))\n",
    "        df['High'] = min_max_scaler.fit_transform(df.High.values.reshape(-1,1))\n",
    "        df['Low'] = min_max_scaler.fit_transform(df.Low.values.reshape(-1,1))\n",
    "        df['Adj Close'] = min_max_scaler.fit_transform(df['Adj Close'].values.reshape(-1,1))\n",
    "    return df"
   ]
  },
  {
   "cell_type": "code",
   "execution_count": 32,
   "metadata": {},
   "outputs": [
    {
     "name": "stdout",
     "output_type": "stream",
     "text": [
      "[*********************100%***********************]  1 of 1 downloaded\n",
      "                Open      High       Low  Adj Close\n",
      "Date                                               \n",
      "1950-01-03  0.000000  0.000000  0.000000   0.000000\n",
      "1950-01-04  0.000067  0.000067  0.000067   0.000067\n",
      "1950-01-05  0.000095  0.000095  0.000095   0.000095\n",
      "1950-01-06  0.000112  0.000112  0.000113   0.000112\n",
      "1950-01-09  0.000147  0.000147  0.000148   0.000147\n",
      "                Open      High       Low  Adj Close\n",
      "Date                                               \n",
      "2018-07-12  0.970501  0.974214  0.975325   0.973888\n",
      "2018-07-13  0.975338  0.976073  0.978909   0.974946\n",
      "2018-07-16  0.975489  0.974904  0.979508   0.973937\n",
      "2018-07-17  0.972676  0.979455  0.978044   0.977831\n",
      "2018-07-18  0.980397  0.980355  0.983918   0.979956\n",
      "\n",
      "df shape is  (17247, 4)\n"
     ]
    }
   ],
   "source": [
    "df = get_stock_data(stock_name)\n",
    "# print(df)\n",
    "print(df.head())\n",
    "print(df.tail())\n",
    "print('\\ndf shape is ', df.shape)"
   ]
  },
  {
   "cell_type": "markdown",
   "metadata": {},
   "source": [
    "#### Plot the data trend (normalized adjusted close price)"
   ]
  },
  {
   "cell_type": "code",
   "execution_count": 19,
   "metadata": {},
   "outputs": [
    {
     "data": {
      "image/png": "[encoded data removed]",
      "text/plain": [
       "<Figure size 432x288 with 1 Axes>"
      ]
     },
     "metadata": {},
     "output_type": "display_data"
    }
   ],
   "source": [
    "def plot_stock(data, field):\n",
    "    plt.plot(data[field], color='red', label=field)\n",
    "    plt.legend(loc='best')\n",
    "    plt.grid()\n",
    "    plt.show()\n",
    "plot_stock(df, 'Adj Close')"
   ]
  },
  {
   "cell_type": "markdown",
   "metadata": {},
   "source": [
    "### Step 2: Prepare train/test data"
   ]
  },
  {
   "cell_type": "code",
   "execution_count": 47,
   "metadata": {},
   "outputs": [
    {
     "name": "stdout",
     "output_type": "stream",
     "text": [
      "amount of feature is 4\n",
      "data shape is  (17247, 4)\n",
      "result shape is  (17225, 22, 4)\n",
      "whole train_data shape is  (15502, 22, 4)\n",
      "\n",
      "x_train shape:  (15502, 21, 4)\n",
      "y_train shape  (15502,)\n",
      "x_test shape:  (1723, 21, 4)\n",
      "y_test shape  (1723,)\n"
     ]
    }
   ],
   "source": [
    "def load_data(stock, seq_len):\n",
    "    amount_of_feat = len(stock.columns)\n",
    "    print('amount of feature is {}'.format(amount_of_feat))\n",
    "    data = stock.values\n",
    "    print('data shape is ', data.shape)\n",
    "\n",
    "    result = []    \n",
    "    for index in range(len(data) - seq_len):\n",
    "        result.append(data[index : index + seq_len])\n",
    "    result = np.array(result)\n",
    "    \n",
    "    print('result shape is ', result.shape)\n",
    "    train_num = round(0.9 * result.shape[0])  # 90% split as train\n",
    "    \n",
    "    train_data = result[:int(train_num)]\n",
    "    print('whole train_data shape is ', train_data.shape)\n",
    "    x_train = train_data[:, :-1]\n",
    "    y_train = train_data[:, -1][:, -1]  # use the ajusted close price on the last day as target\n",
    "    print('\\nx_train shape: ', x_train.shape)\n",
    "    print('y_train shape ', y_train.shape)\n",
    "    \n",
    "    x_test = result[int(train_num):, :-1]\n",
    "    y_test = result[int(train_num):, -1][:, -1]\n",
    "    print('x_test shape: ', x_test.shape)\n",
    "    print('y_test shape ', y_test.shape)\n",
    "    \n",
    "    assert x_train.shape[2] == amount_of_feat\n",
    "    return [x_train, y_train, x_test, y_test]\n",
    "\n",
    "x_train, y_train, x_test, y_test = load_data(df, seq_len)"
   ]
  },
  {
   "cell_type": "markdown",
   "metadata": {},
   "source": [
    "### Step 3: Create model/network withe Keras\n",
    "\n",
    "For documents of LSTM in Keras, see [here](https://keras.io/layers/recurrent/#lstm).\n",
    "The first arugment is `units`, which indicates the dimensionality of the output space."
   ]
  },
  {
   "cell_type": "code",
   "execution_count": 58,
   "metadata": {},
   "outputs": [],
   "source": [
    "# shape = [4, seq_len, 1]   \n",
    "# neurons = [128, 128, 32, 1]\n",
    "\n",
    "def build_model(shape, neurons):\n",
    "    model = Sequential()\n",
    "    model.add(LSTM(neurons[0], input_shape=(shape[1]-1, shape[0]), return_sequences=True))\n",
    "    model.add(Dropout(d))\n",
    "    model.add(LSTM(neurons[1], input_shape=(shape[1]-1, shape[0]), return_sequences=False))\n",
    "    model.add(Dropout(d))\n",
    "    \n",
    "    model.add(Dense(neurons[2], kernel_initializer=\"uniform\", activation='relu'))        \n",
    "    model.add(Dense(neurons[3], kernel_initializer=\"uniform\", activation='linear'))\n",
    "    \n",
    "    print('Network is:')\n",
    "    model.summary()\n",
    "    model.compile(loss='mse', optimizer='adam', metrics=['accuracy'])\n",
    "    \n",
    "    return model"
   ]
  },
  {
   "cell_type": "code",
   "execution_count": 59,
   "metadata": {},
   "outputs": [
    {
     "name": "stdout",
     "output_type": "stream",
     "text": [
      "Network is:\n",
      "_________________________________________________________________\n",
      "Layer (type)                 Output Shape              Param #   \n",
      "=================================================================\n",
      "lstm_8 (LSTM)                (None, 21, 128)           68096     \n",
      "_________________________________________________________________\n",
      "dropout_8 (Dropout)          (None, 21, 128)           0         \n",
      "_________________________________________________________________\n",
      "lstm_9 (LSTM)                (None, 128)               131584    \n",
      "_________________________________________________________________\n",
      "dropout_9 (Dropout)          (None, 128)               0         \n",
      "_________________________________________________________________\n",
      "dense_7 (Dense)              (None, 32)                4128      \n",
      "_________________________________________________________________\n",
      "dense_8 (Dense)              (None, 1)                 33        \n",
      "=================================================================\n",
      "Total params: 203,841\n",
      "Trainable params: 203,841\n",
      "Non-trainable params: 0\n",
      "_________________________________________________________________\n"
     ]
    }
   ],
   "source": [
    "model = build_model(shape, neurons)"
   ]
  },
  {
   "cell_type": "markdown",
   "metadata": {},
   "source": [
    "Question: think about how the number of parameters are acquired. \n",
    "Say 4128 in dense_layer. (4128 = 32 x 128 + 32)"
   ]
  },
  {
   "cell_type": "markdown",
   "metadata": {},
   "source": [
    "### Step 4: train the model"
   ]
  },
  {
   "cell_type": "markdown",
   "metadata": {},
   "source": [
    "TODO: show part of the epoch.\n",
    "\n",
    "Question: **students! why the acc is zero?**"
   ]
  },
  {
   "cell_type": "code",
   "execution_count": 60,
   "metadata": {},
   "outputs": [
    {
     "name": "stdout",
     "output_type": "stream",
     "text": [
      "Train on 13951 samples, validate on 1551 samples\n",
      "Epoch 1/300\n",
      "13951/13951 [==============================] - 8s 593us/step - loss: 0.0101 - acc: 0.0000e+00 - val_loss: 0.0033 - val_acc: 0.0000e+00\n",
      "Epoch 2/300\n",
      "13951/13951 [==============================] - 8s 563us/step - loss: 3.7416e-04 - acc: 0.0000e+00 - val_loss: 6.3133e-04 - val_acc: 0.0000e+00\n",
      "Epoch 3/300\n",
      "13951/13951 [==============================] - 8s 552us/step - loss: 1.4271e-04 - acc: 0.0000e+00 - val_loss: 4.0404e-04 - val_acc: 0.0000e+00\n",
      "Epoch 4/300\n",
      "13951/13951 [==============================] - 8s 579us/step - loss: 1.1729e-04 - acc: 0.0000e+00 - val_loss: 2.5198e-04 - val_acc: 0.0000e+00\n",
      "Epoch 5/300\n",
      "13951/13951 [==============================] - 8s 594us/step - loss: 1.1718e-04 - acc: 0.0000e+00 - val_loss: 3.2909e-04 - val_acc: 0.0000e+00\n",
      "Epoch 6/300\n",
      "13951/13951 [==============================] - 9s 613us/step - loss: 9.9163e-05 - acc: 0.0000e+00 - val_loss: 1.8798e-04 - val_acc: 0.0000e+00\n",
      "Epoch 7/300\n",
      "13951/13951 [==============================] - 9s 611us/step - loss: 9.8330e-05 - acc: 0.0000e+00 - val_loss: 2.8824e-04 - val_acc: 0.0000e+00\n",
      "Epoch 8/300\n",
      "13951/13951 [==============================] - 9s 652us/step - loss: 9.5230e-05 - acc: 0.0000e+00 - val_loss: 2.9714e-04 - val_acc: 0.0000e+00\n",
      "Epoch 9/300\n",
      "13951/13951 [==============================] - 9s 614us/step - loss: 9.7072e-05 - acc: 0.0000e+00 - val_loss: 1.8495e-04 - val_acc: 0.0000e+00\n",
      "Epoch 10/300\n",
      "13951/13951 [==============================] - 9s 612us/step - loss: 8.7198e-05 - acc: 0.0000e+00 - val_loss: 2.1598e-04 - val_acc: 0.0000e+00\n",
      "Epoch 11/300\n",
      "13951/13951 [==============================] - 8s 589us/step - loss: 9.1397e-05 - acc: 0.0000e+00 - val_loss: 2.8460e-04 - val_acc: 0.0000e+00\n",
      "Epoch 12/300\n",
      "13951/13951 [==============================] - 8s 599us/step - loss: 9.5335e-05 - acc: 0.0000e+00 - val_loss: 1.7773e-04 - val_acc: 0.0000e+00\n",
      "Epoch 13/300\n",
      "13951/13951 [==============================] - 8s 578us/step - loss: 8.3339e-05 - acc: 0.0000e+00 - val_loss: 2.0995e-04 - val_acc: 0.0000e+00\n",
      "Epoch 14/300\n",
      "13951/13951 [==============================] - 8s 571us/step - loss: 9.0129e-05 - acc: 0.0000e+00 - val_loss: 1.7540e-04 - val_acc: 0.0000e+00\n",
      "Epoch 15/300\n",
      "13951/13951 [==============================] - 8s 554us/step - loss: 8.9221e-05 - acc: 0.0000e+00 - val_loss: 4.8695e-04 - val_acc: 0.0000e+00\n",
      "Epoch 16/300\n",
      "13951/13951 [==============================] - 8s 566us/step - loss: 1.0237e-04 - acc: 0.0000e+00 - val_loss: 2.3525e-04 - val_acc: 0.0000e+00\n",
      "Epoch 17/300\n",
      "13951/13951 [==============================] - 8s 554us/step - loss: 7.6130e-05 - acc: 0.0000e+00 - val_loss: 1.5579e-04 - val_acc: 0.0000e+00\n",
      "Epoch 18/300\n",
      "13951/13951 [==============================] - 8s 559us/step - loss: 8.0133e-05 - acc: 0.0000e+00 - val_loss: 1.6614e-04 - val_acc: 0.0000e+00\n",
      "Epoch 19/300\n",
      "13951/13951 [==============================] - 8s 586us/step - loss: 8.2427e-05 - acc: 0.0000e+00 - val_loss: 1.5038e-04 - val_acc: 0.0000e+00\n",
      "Epoch 20/300\n",
      "13951/13951 [==============================] - 8s 551us/step - loss: 7.9115e-05 - acc: 0.0000e+00 - val_loss: 1.4553e-04 - val_acc: 0.0000e+00\n",
      "Epoch 21/300\n",
      "13951/13951 [==============================] - 8s 552us/step - loss: 7.4662e-05 - acc: 0.0000e+00 - val_loss: 1.9830e-04 - val_acc: 0.0000e+00\n",
      "Epoch 22/300\n",
      "13951/13951 [==============================] - 8s 548us/step - loss: 7.5251e-05 - acc: 0.0000e+00 - val_loss: 2.4765e-04 - val_acc: 0.0000e+00\n",
      "Epoch 23/300\n",
      "13951/13951 [==============================] - 8s 540us/step - loss: 7.4477e-05 - acc: 0.0000e+00 - val_loss: 2.3965e-04 - val_acc: 0.0000e+00\n",
      "Epoch 24/300\n",
      "13951/13951 [==============================] - 8s 559us/step - loss: 8.7255e-05 - acc: 0.0000e+00 - val_loss: 3.3566e-04 - val_acc: 0.0000e+00\n",
      "Epoch 25/300\n",
      "13951/13951 [==============================] - 8s 559us/step - loss: 7.7576e-05 - acc: 0.0000e+00 - val_loss: 2.0547e-04 - val_acc: 0.0000e+00\n",
      "Epoch 26/300\n",
      "13951/13951 [==============================] - 8s 557us/step - loss: 7.7054e-05 - acc: 0.0000e+00 - val_loss: 1.5196e-04 - val_acc: 0.0000e+00\n",
      "Epoch 27/300\n",
      "13951/13951 [==============================] - 8s 565us/step - loss: 8.0375e-05 - acc: 0.0000e+00 - val_loss: 2.6292e-04 - val_acc: 0.0000e+00\n",
      "Epoch 28/300\n",
      "13951/13951 [==============================] - 8s 560us/step - loss: 7.9502e-05 - acc: 0.0000e+00 - val_loss: 3.4145e-04 - val_acc: 0.0000e+00\n",
      "Epoch 29/300\n",
      "13951/13951 [==============================] - 8s 555us/step - loss: 7.8750e-05 - acc: 0.0000e+00 - val_loss: 1.4029e-04 - val_acc: 0.0000e+00\n",
      "Epoch 30/300\n",
      "13951/13951 [==============================] - 8s 542us/step - loss: 7.2630e-05 - acc: 0.0000e+00 - val_loss: 2.7664e-04 - val_acc: 0.0000e+00\n",
      "Epoch 31/300\n",
      "13951/13951 [==============================] - 8s 553us/step - loss: 7.9875e-05 - acc: 0.0000e+00 - val_loss: 1.3683e-04 - val_acc: 0.0000e+00\n",
      "Epoch 32/300\n",
      "13951/13951 [==============================] - 7s 534us/step - loss: 6.8327e-05 - acc: 0.0000e+00 - val_loss: 1.7186e-04 - val_acc: 0.0000e+00\n",
      "Epoch 33/300\n",
      "13951/13951 [==============================] - 8s 543us/step - loss: 7.2470e-05 - acc: 0.0000e+00 - val_loss: 1.4638e-04 - val_acc: 0.0000e+00\n",
      "Epoch 34/300\n",
      "13951/13951 [==============================] - 7s 533us/step - loss: 6.9668e-05 - acc: 0.0000e+00 - val_loss: 1.4857e-04 - val_acc: 0.0000e+00\n",
      "Epoch 35/300\n",
      "13951/13951 [==============================] - 8s 548us/step - loss: 7.3222e-05 - acc: 0.0000e+00 - val_loss: 4.0513e-04 - val_acc: 0.0000e+00\n",
      "Epoch 36/300\n",
      "13951/13951 [==============================] - 7s 536us/step - loss: 7.4876e-05 - acc: 0.0000e+00 - val_loss: 1.3294e-04 - val_acc: 0.0000e+00\n",
      "Epoch 37/300\n",
      "13951/13951 [==============================] - 7s 529us/step - loss: 6.7219e-05 - acc: 0.0000e+00 - val_loss: 1.2640e-04 - val_acc: 0.0000e+00\n",
      "Epoch 38/300\n",
      "13951/13951 [==============================] - 8s 540us/step - loss: 6.9016e-05 - acc: 0.0000e+00 - val_loss: 1.6469e-04 - val_acc: 0.0000e+00\n",
      "Epoch 39/300\n",
      "13951/13951 [==============================] - 7s 536us/step - loss: 6.8582e-05 - acc: 0.0000e+00 - val_loss: 1.2662e-04 - val_acc: 0.0000e+00\n",
      "Epoch 40/300\n",
      "13951/13951 [==============================] - 7s 533us/step - loss: 7.0620e-05 - acc: 0.0000e+00 - val_loss: 1.9854e-04 - val_acc: 0.0000e+00\n",
      "Epoch 41/300\n",
      "13951/13951 [==============================] - 7s 525us/step - loss: 6.5084e-05 - acc: 0.0000e+00 - val_loss: 1.2322e-04 - val_acc: 0.0000e+00\n",
      "Epoch 42/300\n",
      "13951/13951 [==============================] - 7s 534us/step - loss: 6.2439e-05 - acc: 0.0000e+00 - val_loss: 1.2002e-04 - val_acc: 0.0000e+00\n",
      "Epoch 43/300\n",
      "13951/13951 [==============================] - 8s 538us/step - loss: 7.1466e-05 - acc: 0.0000e+00 - val_loss: 3.5216e-04 - val_acc: 0.0000e+00\n",
      "Epoch 44/300\n",
      "13951/13951 [==============================] - 8s 538us/step - loss: 7.1435e-05 - acc: 0.0000e+00 - val_loss: 1.5506e-04 - val_acc: 0.0000e+00\n",
      "Epoch 45/300\n",
      "13951/13951 [==============================] - 8s 542us/step - loss: 6.7560e-05 - acc: 0.0000e+00 - val_loss: 2.9188e-04 - val_acc: 0.0000e+00\n",
      "Epoch 46/300\n",
      "13951/13951 [==============================] - 7s 531us/step - loss: 6.5191e-05 - acc: 0.0000e+00 - val_loss: 1.2613e-04 - val_acc: 0.0000e+00\n",
      "Epoch 47/300\n",
      "13951/13951 [==============================] - 7s 528us/step - loss: 8.9344e-05 - acc: 0.0000e+00 - val_loss: 1.2812e-04 - val_acc: 0.0000e+00\n",
      "Epoch 48/300\n",
      "13951/13951 [==============================] - 8s 540us/step - loss: 6.8001e-05 - acc: 0.0000e+00 - val_loss: 1.2558e-04 - val_acc: 0.0000e+00\n",
      "Epoch 49/300\n",
      "13951/13951 [==============================] - 7s 532us/step - loss: 5.9489e-05 - acc: 0.0000e+00 - val_loss: 1.4136e-04 - val_acc: 0.0000e+00\n",
      "Epoch 50/300\n",
      "13951/13951 [==============================] - 7s 529us/step - loss: 6.4126e-05 - acc: 0.0000e+00 - val_loss: 3.5460e-04 - val_acc: 0.0000e+00\n",
      "Epoch 51/300\n",
      "13951/13951 [==============================] - 8s 539us/step - loss: 5.8644e-05 - acc: 0.0000e+00 - val_loss: 1.2659e-04 - val_acc: 0.0000e+00\n",
      "Epoch 52/300\n",
      "13951/13951 [==============================] - 8s 542us/step - loss: 6.1868e-05 - acc: 0.0000e+00 - val_loss: 1.3898e-04 - val_acc: 0.0000e+00\n",
      "Epoch 53/300\n",
      "13951/13951 [==============================] - 7s 533us/step - loss: 6.7280e-05 - acc: 0.0000e+00 - val_loss: 3.4075e-04 - val_acc: 0.0000e+00\n",
      "Epoch 54/300\n",
      "13951/13951 [==============================] - 8s 541us/step - loss: 6.7497e-05 - acc: 0.0000e+00 - val_loss: 1.3042e-04 - val_acc: 0.0000e+00\n",
      "Epoch 55/300\n",
      "13951/13951 [==============================] - 7s 525us/step - loss: 6.3220e-05 - acc: 0.0000e+00 - val_loss: 2.1049e-04 - val_acc: 0.0000e+00\n",
      "Epoch 56/300\n",
      "13951/13951 [==============================] - 8s 556us/step - loss: 8.9656e-05 - acc: 0.0000e+00 - val_loss: 1.4731e-04 - val_acc: 0.0000e+00\n",
      "Epoch 57/300\n",
      "13951/13951 [==============================] - 7s 526us/step - loss: 6.1345e-05 - acc: 0.0000e+00 - val_loss: 1.0653e-04 - val_acc: 0.0000e+00\n",
      "Epoch 58/300\n",
      "13951/13951 [==============================] - 7s 522us/step - loss: 5.5811e-05 - acc: 0.0000e+00 - val_loss: 1.0470e-04 - val_acc: 0.0000e+00\n",
      "Epoch 59/300\n",
      "13951/13951 [==============================] - 7s 535us/step - loss: 5.7090e-05 - acc: 0.0000e+00 - val_loss: 1.0259e-04 - val_acc: 0.0000e+00\n",
      "Epoch 60/300\n",
      "13951/13951 [==============================] - 8s 538us/step - loss: 6.4698e-05 - acc: 0.0000e+00 - val_loss: 1.1297e-04 - val_acc: 0.0000e+00\n",
      "Epoch 61/300\n",
      "13951/13951 [==============================] - 8s 540us/step - loss: 6.3654e-05 - acc: 0.0000e+00 - val_loss: 1.1467e-04 - val_acc: 0.0000e+00\n",
      "Epoch 62/300\n",
      "13951/13951 [==============================] - 8s 556us/step - loss: 5.6139e-05 - acc: 0.0000e+00 - val_loss: 1.1684e-04 - val_acc: 0.0000e+00\n",
      "Epoch 63/300\n",
      "13951/13951 [==============================] - 7s 526us/step - loss: 5.7408e-05 - acc: 0.0000e+00 - val_loss: 2.3213e-04 - val_acc: 0.0000e+00\n",
      "Epoch 64/300\n",
      "13951/13951 [==============================] - 8s 572us/step - loss: 6.7791e-05 - acc: 0.0000e+00 - val_loss: 1.0382e-04 - val_acc: 0.0000e+00\n",
      "Epoch 65/300\n",
      "13951/13951 [==============================] - 8s 540us/step - loss: 5.4273e-05 - acc: 0.0000e+00 - val_loss: 2.3267e-04 - val_acc: 0.0000e+00\n",
      "Epoch 66/300\n",
      "13951/13951 [==============================] - 8s 569us/step - loss: 5.9081e-05 - acc: 0.0000e+00 - val_loss: 2.2866e-04 - val_acc: 0.0000e+00\n",
      "Epoch 67/300\n",
      "13951/13951 [==============================] - 8s 538us/step - loss: 5.8065e-05 - acc: 0.0000e+00 - val_loss: 9.7632e-05 - val_acc: 0.0000e+00\n",
      "Epoch 68/300\n",
      "13951/13951 [==============================] - 8s 552us/step - loss: 5.5960e-05 - acc: 0.0000e+00 - val_loss: 1.6429e-04 - val_acc: 0.0000e+00\n",
      "Epoch 69/300\n",
      "13951/13951 [==============================] - 8s 572us/step - loss: 5.7934e-05 - acc: 0.0000e+00 - val_loss: 9.9154e-05 - val_acc: 0.0000e+00\n",
      "Epoch 70/300\n",
      "13951/13951 [==============================] - 8s 540us/step - loss: 5.7761e-05 - acc: 0.0000e+00 - val_loss: 1.9845e-04 - val_acc: 0.0000e+00\n",
      "Epoch 71/300\n",
      "13951/13951 [==============================] - 8s 548us/step - loss: 5.8862e-05 - acc: 0.0000e+00 - val_loss: 3.7862e-04 - val_acc: 0.0000e+00\n",
      "Epoch 72/300\n",
      "13951/13951 [==============================] - 8s 565us/step - loss: 9.3200e-05 - acc: 0.0000e+00 - val_loss: 1.6917e-04 - val_acc: 0.0000e+00\n",
      "Epoch 73/300\n",
      "13951/13951 [==============================] - 8s 596us/step - loss: 6.5273e-05 - acc: 0.0000e+00 - val_loss: 1.8881e-04 - val_acc: 0.0000e+00\n",
      "Epoch 74/300\n",
      "13951/13951 [==============================] - 8s 583us/step - loss: 5.3691e-05 - acc: 0.0000e+00 - val_loss: 2.9276e-04 - val_acc: 0.0000e+00\n",
      "Epoch 75/300\n",
      "13951/13951 [==============================] - 8s 574us/step - loss: 5.0483e-05 - acc: 0.0000e+00 - val_loss: 9.3514e-05 - val_acc: 0.0000e+00\n",
      "Epoch 76/300\n",
      "13951/13951 [==============================] - 8s 590us/step - loss: 4.9328e-05 - acc: 0.0000e+00 - val_loss: 1.2627e-04 - val_acc: 0.0000e+00\n",
      "Epoch 77/300\n",
      "13951/13951 [==============================] - 8s 581us/step - loss: 5.1558e-05 - acc: 0.0000e+00 - val_loss: 1.0350e-04 - val_acc: 0.0000e+00\n",
      "Epoch 78/300\n",
      "13951/13951 [==============================] - 8s 558us/step - loss: 5.3398e-05 - acc: 0.0000e+00 - val_loss: 1.5971e-04 - val_acc: 0.0000e+00\n",
      "Epoch 79/300\n",
      "13951/13951 [==============================] - 8s 575us/step - loss: 5.1623e-05 - acc: 0.0000e+00 - val_loss: 1.7654e-04 - val_acc: 0.0000e+00\n",
      "Epoch 80/300\n",
      "13951/13951 [==============================] - 8s 570us/step - loss: 5.4162e-05 - acc: 0.0000e+00 - val_loss: 1.1384e-04 - val_acc: 0.0000e+00\n",
      "Epoch 81/300\n",
      "13951/13951 [==============================] - 8s 561us/step - loss: 4.9792e-05 - acc: 0.0000e+00 - val_loss: 9.4603e-05 - val_acc: 0.0000e+00\n",
      "Epoch 82/300\n",
      "13951/13951 [==============================] - 8s 572us/step - loss: 5.0661e-05 - acc: 0.0000e+00 - val_loss: 9.0113e-05 - val_acc: 0.0000e+00\n",
      "Epoch 83/300\n",
      "13951/13951 [==============================] - 8s 569us/step - loss: 5.2958e-05 - acc: 0.0000e+00 - val_loss: 2.7304e-04 - val_acc: 0.0000e+00\n",
      "Epoch 84/300\n",
      "13951/13951 [==============================] - 8s 570us/step - loss: 7.0159e-05 - acc: 0.0000e+00 - val_loss: 9.2462e-05 - val_acc: 0.0000e+00\n",
      "Epoch 85/300\n",
      "13951/13951 [==============================] - 8s 563us/step - loss: 5.2482e-05 - acc: 0.0000e+00 - val_loss: 9.5311e-05 - val_acc: 0.0000e+00\n",
      "Epoch 86/300\n",
      "13951/13951 [==============================] - 8s 562us/step - loss: 5.2019e-05 - acc: 0.0000e+00 - val_loss: 8.6402e-05 - val_acc: 0.0000e+00\n",
      "Epoch 87/300\n",
      "13951/13951 [==============================] - 8s 566us/step - loss: 5.2700e-05 - acc: 0.0000e+00 - val_loss: 1.4068e-04 - val_acc: 0.0000e+00\n",
      "Epoch 88/300\n",
      "13951/13951 [==============================] - 8s 565us/step - loss: 4.8786e-05 - acc: 0.0000e+00 - val_loss: 1.2718e-04 - val_acc: 0.0000e+00\n",
      "Epoch 89/300\n",
      "13951/13951 [==============================] - 8s 597us/step - loss: 4.7611e-05 - acc: 0.0000e+00 - val_loss: 8.6115e-05 - val_acc: 0.0000e+00\n",
      "Epoch 90/300\n",
      "13951/13951 [==============================] - 9s 630us/step - loss: 5.0557e-05 - acc: 0.0000e+00 - val_loss: 1.2184e-04 - val_acc: 0.0000e+00\n",
      "Epoch 91/300\n",
      "13951/13951 [==============================] - 8s 597us/step - loss: 4.9230e-05 - acc: 0.0000e+00 - val_loss: 8.3670e-05 - val_acc: 0.0000e+00\n",
      "Epoch 92/300\n",
      "13951/13951 [==============================] - 8s 559us/step - loss: 4.9541e-05 - acc: 0.0000e+00 - val_loss: 1.7195e-04 - val_acc: 0.0000e+00\n",
      "Epoch 93/300\n",
      "13951/13951 [==============================] - 8s 565us/step - loss: 4.6537e-05 - acc: 0.0000e+00 - val_loss: 1.4229e-04 - val_acc: 0.0000e+00\n",
      "Epoch 94/300\n",
      "13951/13951 [==============================] - 9s 618us/step - loss: 4.8227e-05 - acc: 0.0000e+00 - val_loss: 1.7658e-04 - val_acc: 0.0000e+00\n",
      "Epoch 95/300\n",
      "13951/13951 [==============================] - 8s 559us/step - loss: 5.1792e-05 - acc: 0.0000e+00 - val_loss: 3.0354e-04 - val_acc: 0.0000e+00\n",
      "Epoch 96/300\n",
      "13951/13951 [==============================] - 8s 560us/step - loss: 5.2082e-05 - acc: 0.0000e+00 - val_loss: 8.0455e-05 - val_acc: 0.0000e+00\n",
      "Epoch 97/300\n",
      "13951/13951 [==============================] - 8s 564us/step - loss: 5.2156e-05 - acc: 0.0000e+00 - val_loss: 9.9835e-05 - val_acc: 0.0000e+00\n",
      "Epoch 98/300\n",
      "13951/13951 [==============================] - 8s 567us/step - loss: 4.7694e-05 - acc: 0.0000e+00 - val_loss: 1.1024e-04 - val_acc: 0.0000e+00\n",
      "Epoch 99/300\n",
      "13951/13951 [==============================] - 8s 548us/step - loss: 4.8085e-05 - acc: 0.0000e+00 - val_loss: 2.2905e-04 - val_acc: 0.0000e+00\n",
      "Epoch 100/300\n",
      "13951/13951 [==============================] - 8s 579us/step - loss: 4.5144e-05 - acc: 0.0000e+00 - val_loss: 2.0449e-04 - val_acc: 0.0000e+00\n",
      "Epoch 101/300\n",
      "13951/13951 [==============================] - 8s 548us/step - loss: 6.6914e-05 - acc: 0.0000e+00 - val_loss: 1.7263e-04 - val_acc: 0.0000e+00\n",
      "Epoch 102/300\n",
      "13951/13951 [==============================] - 8s 579us/step - loss: 4.9274e-05 - acc: 0.0000e+00 - val_loss: 7.8012e-05 - val_acc: 0.0000e+00\n",
      "Epoch 103/300\n",
      "13951/13951 [==============================] - 8s 567us/step - loss: 4.4826e-05 - acc: 0.0000e+00 - val_loss: 1.1055e-04 - val_acc: 0.0000e+00\n",
      "Epoch 104/300\n",
      "13951/13951 [==============================] - 8s 576us/step - loss: 4.6918e-05 - acc: 0.0000e+00 - val_loss: 1.1131e-04 - val_acc: 0.0000e+00\n",
      "Epoch 105/300\n"
     ]
    },
    {
     "name": "stdout",
     "output_type": "stream",
     "text": [
      "13951/13951 [==============================] - 8s 572us/step - loss: 4.6309e-05 - acc: 0.0000e+00 - val_loss: 8.0776e-05 - val_acc: 0.0000e+00\n",
      "Epoch 106/300\n",
      "13951/13951 [==============================] - 8s 599us/step - loss: 4.4195e-05 - acc: 0.0000e+00 - val_loss: 9.4711e-05 - val_acc: 0.0000e+00\n",
      "Epoch 107/300\n",
      "13951/13951 [==============================] - 8s 561us/step - loss: 4.8601e-05 - acc: 0.0000e+00 - val_loss: 8.9379e-05 - val_acc: 0.0000e+00\n",
      "Epoch 108/300\n",
      "13951/13951 [==============================] - 8s 574us/step - loss: 4.3924e-05 - acc: 0.0000e+00 - val_loss: 2.3463e-04 - val_acc: 0.0000e+00\n",
      "Epoch 109/300\n",
      "13951/13951 [==============================] - 8s 556us/step - loss: 5.0231e-05 - acc: 0.0000e+00 - val_loss: 2.9823e-04 - val_acc: 0.0000e+00\n",
      "Epoch 110/300\n",
      "13951/13951 [==============================] - 8s 549us/step - loss: 4.4883e-05 - acc: 0.0000e+00 - val_loss: 7.9925e-05 - val_acc: 0.0000e+00\n",
      "Epoch 111/300\n",
      "13951/13951 [==============================] - 8s 561us/step - loss: 4.2142e-05 - acc: 0.0000e+00 - val_loss: 1.4719e-04 - val_acc: 0.0000e+00\n",
      "Epoch 112/300\n",
      "13951/13951 [==============================] - 8s 556us/step - loss: 5.0217e-05 - acc: 0.0000e+00 - val_loss: 7.9188e-05 - val_acc: 0.0000e+00\n",
      "Epoch 113/300\n",
      "13951/13951 [==============================] - 8s 549us/step - loss: 4.0903e-05 - acc: 0.0000e+00 - val_loss: 1.0888e-04 - val_acc: 0.0000e+00\n",
      "Epoch 114/300\n",
      "13951/13951 [==============================] - 7s 527us/step - loss: 4.4544e-05 - acc: 0.0000e+00 - val_loss: 7.7967e-05 - val_acc: 0.0000e+00\n",
      "Epoch 115/300\n",
      "13951/13951 [==============================] - 8s 539us/step - loss: 4.3527e-05 - acc: 0.0000e+00 - val_loss: 9.0480e-05 - val_acc: 0.0000e+00\n",
      "Epoch 116/300\n",
      "13951/13951 [==============================] - 8s 551us/step - loss: 4.6261e-05 - acc: 0.0000e+00 - val_loss: 1.7273e-04 - val_acc: 0.0000e+00\n",
      "Epoch 117/300\n",
      "13951/13951 [==============================] - 8s 588us/step - loss: 4.5269e-05 - acc: 0.0000e+00 - val_loss: 8.3119e-05 - val_acc: 0.0000e+00\n",
      "Epoch 118/300\n",
      "13951/13951 [==============================] - 8s 557us/step - loss: 4.4345e-05 - acc: 0.0000e+00 - val_loss: 8.6570e-05 - val_acc: 0.0000e+00\n",
      "Epoch 119/300\n",
      "13951/13951 [==============================] - 8s 552us/step - loss: 4.0692e-05 - acc: 0.0000e+00 - val_loss: 9.5237e-05 - val_acc: 0.0000e+00\n",
      "Epoch 120/300\n",
      "13951/13951 [==============================] - 8s 543us/step - loss: 3.9021e-05 - acc: 0.0000e+00 - val_loss: 7.6072e-05 - val_acc: 0.0000e+00\n",
      "Epoch 121/300\n",
      "13951/13951 [==============================] - 8s 565us/step - loss: 4.1635e-05 - acc: 0.0000e+00 - val_loss: 9.9783e-05 - val_acc: 0.0000e+00\n",
      "Epoch 122/300\n",
      " 8704/13951 [=================>............] - ETA: 2s - loss: 4.1959e-05 - acc: 0.0000e+00"
     ]
    },
    {
     "ename": "KeyboardInterrupt",
     "evalue": "",
     "output_type": "error",
     "traceback": [
      "\u001b[0;31m---------------------------------------------------------------------------\u001b[0m",
      "\u001b[0;31mKeyboardInterrupt\u001b[0m                         Traceback (most recent call last)",
      "\u001b[0;32m<ipython-input-60-cd4d0a9e834e>\u001b[0m in \u001b[0;36m<module>\u001b[0;34m()\u001b[0m\n\u001b[1;32m      5\u001b[0m     \u001b[0mepochs\u001b[0m\u001b[0;34m=\u001b[0m\u001b[0mepochs\u001b[0m\u001b[0;34m,\u001b[0m\u001b[0;34m\u001b[0m\u001b[0m\n\u001b[1;32m      6\u001b[0m     \u001b[0mvalidation_split\u001b[0m\u001b[0;34m=\u001b[0m\u001b[0;36m0.1\u001b[0m\u001b[0;34m,\u001b[0m\u001b[0;34m\u001b[0m\u001b[0m\n\u001b[0;32m----> 7\u001b[0;31m     verbose=1)\n\u001b[0m",
      "\u001b[0;32m/anaconda3/lib/python3.6/site-packages/keras/engine/training.py\u001b[0m in \u001b[0;36mfit\u001b[0;34m(self, x, y, batch_size, epochs, verbose, callbacks, validation_split, validation_data, shuffle, class_weight, sample_weight, initial_epoch, steps_per_epoch, validation_steps, **kwargs)\u001b[0m\n\u001b[1;32m   1040\u001b[0m                                         \u001b[0minitial_epoch\u001b[0m\u001b[0;34m=\u001b[0m\u001b[0minitial_epoch\u001b[0m\u001b[0;34m,\u001b[0m\u001b[0;34m\u001b[0m\u001b[0m\n\u001b[1;32m   1041\u001b[0m                                         \u001b[0msteps_per_epoch\u001b[0m\u001b[0;34m=\u001b[0m\u001b[0msteps_per_epoch\u001b[0m\u001b[0;34m,\u001b[0m\u001b[0;34m\u001b[0m\u001b[0m\n\u001b[0;32m-> 1042\u001b[0;31m                                         validation_steps=validation_steps)\n\u001b[0m\u001b[1;32m   1043\u001b[0m \u001b[0;34m\u001b[0m\u001b[0m\n\u001b[1;32m   1044\u001b[0m     def evaluate(self, x=None, y=None,\n",
      "\u001b[0;32m/anaconda3/lib/python3.6/site-packages/keras/engine/training_arrays.py\u001b[0m in \u001b[0;36mfit_loop\u001b[0;34m(model, f, ins, out_labels, batch_size, epochs, verbose, callbacks, val_f, val_ins, shuffle, callback_metrics, initial_epoch, steps_per_epoch, validation_steps)\u001b[0m\n\u001b[1;32m    197\u001b[0m                     \u001b[0mins_batch\u001b[0m\u001b[0;34m[\u001b[0m\u001b[0mi\u001b[0m\u001b[0;34m]\u001b[0m \u001b[0;34m=\u001b[0m \u001b[0mins_batch\u001b[0m\u001b[0;34m[\u001b[0m\u001b[0mi\u001b[0m\u001b[0;34m]\u001b[0m\u001b[0;34m.\u001b[0m\u001b[0mtoarray\u001b[0m\u001b[0;34m(\u001b[0m\u001b[0;34m)\u001b[0m\u001b[0;34m\u001b[0m\u001b[0m\n\u001b[1;32m    198\u001b[0m \u001b[0;34m\u001b[0m\u001b[0m\n\u001b[0;32m--> 199\u001b[0;31m                 \u001b[0mouts\u001b[0m \u001b[0;34m=\u001b[0m \u001b[0mf\u001b[0m\u001b[0;34m(\u001b[0m\u001b[0mins_batch\u001b[0m\u001b[0;34m)\u001b[0m\u001b[0;34m\u001b[0m\u001b[0m\n\u001b[0m\u001b[1;32m    200\u001b[0m                 \u001b[0;32mif\u001b[0m \u001b[0;32mnot\u001b[0m \u001b[0misinstance\u001b[0m\u001b[0;34m(\u001b[0m\u001b[0mouts\u001b[0m\u001b[0;34m,\u001b[0m \u001b[0mlist\u001b[0m\u001b[0;34m)\u001b[0m\u001b[0;34m:\u001b[0m\u001b[0;34m\u001b[0m\u001b[0m\n\u001b[1;32m    201\u001b[0m                     \u001b[0mouts\u001b[0m \u001b[0;34m=\u001b[0m \u001b[0;34m[\u001b[0m\u001b[0mouts\u001b[0m\u001b[0;34m]\u001b[0m\u001b[0;34m\u001b[0m\u001b[0m\n",
      "\u001b[0;32m/anaconda3/lib/python3.6/site-packages/keras/backend/tensorflow_backend.py\u001b[0m in \u001b[0;36m__call__\u001b[0;34m(self, inputs)\u001b[0m\n\u001b[1;32m   2659\u001b[0m                 \u001b[0;32mreturn\u001b[0m \u001b[0mself\u001b[0m\u001b[0;34m.\u001b[0m\u001b[0m_legacy_call\u001b[0m\u001b[0;34m(\u001b[0m\u001b[0minputs\u001b[0m\u001b[0;34m)\u001b[0m\u001b[0;34m\u001b[0m\u001b[0m\n\u001b[1;32m   2660\u001b[0m \u001b[0;34m\u001b[0m\u001b[0m\n\u001b[0;32m-> 2661\u001b[0;31m             \u001b[0;32mreturn\u001b[0m \u001b[0mself\u001b[0m\u001b[0;34m.\u001b[0m\u001b[0m_call\u001b[0m\u001b[0;34m(\u001b[0m\u001b[0minputs\u001b[0m\u001b[0;34m)\u001b[0m\u001b[0;34m\u001b[0m\u001b[0m\n\u001b[0m\u001b[1;32m   2662\u001b[0m         \u001b[0;32melse\u001b[0m\u001b[0;34m:\u001b[0m\u001b[0;34m\u001b[0m\u001b[0m\n\u001b[1;32m   2663\u001b[0m             \u001b[0;32mif\u001b[0m \u001b[0mpy_any\u001b[0m\u001b[0;34m(\u001b[0m\u001b[0mis_tensor\u001b[0m\u001b[0;34m(\u001b[0m\u001b[0mx\u001b[0m\u001b[0;34m)\u001b[0m \u001b[0;32mfor\u001b[0m \u001b[0mx\u001b[0m \u001b[0;32min\u001b[0m \u001b[0minputs\u001b[0m\u001b[0;34m)\u001b[0m\u001b[0;34m:\u001b[0m\u001b[0;34m\u001b[0m\u001b[0m\n",
      "\u001b[0;32m/anaconda3/lib/python3.6/site-packages/keras/backend/tensorflow_backend.py\u001b[0m in \u001b[0;36m_call\u001b[0;34m(self, inputs)\u001b[0m\n\u001b[1;32m   2629\u001b[0m                                 \u001b[0msymbol_vals\u001b[0m\u001b[0;34m,\u001b[0m\u001b[0;34m\u001b[0m\u001b[0m\n\u001b[1;32m   2630\u001b[0m                                 session)\n\u001b[0;32m-> 2631\u001b[0;31m         \u001b[0mfetched\u001b[0m \u001b[0;34m=\u001b[0m \u001b[0mself\u001b[0m\u001b[0;34m.\u001b[0m\u001b[0m_callable_fn\u001b[0m\u001b[0;34m(\u001b[0m\u001b[0;34m*\u001b[0m\u001b[0marray_vals\u001b[0m\u001b[0;34m)\u001b[0m\u001b[0;34m\u001b[0m\u001b[0m\n\u001b[0m\u001b[1;32m   2632\u001b[0m         \u001b[0;32mreturn\u001b[0m \u001b[0mfetched\u001b[0m\u001b[0;34m[\u001b[0m\u001b[0;34m:\u001b[0m\u001b[0mlen\u001b[0m\u001b[0;34m(\u001b[0m\u001b[0mself\u001b[0m\u001b[0;34m.\u001b[0m\u001b[0moutputs\u001b[0m\u001b[0;34m)\u001b[0m\u001b[0;34m]\u001b[0m\u001b[0;34m\u001b[0m\u001b[0m\n\u001b[1;32m   2633\u001b[0m \u001b[0;34m\u001b[0m\u001b[0m\n",
      "\u001b[0;32m/anaconda3/lib/python3.6/site-packages/tensorflow/python/client/session.py\u001b[0m in \u001b[0;36m__call__\u001b[0;34m(self, *args)\u001b[0m\n\u001b[1;32m   1449\u001b[0m         \u001b[0;32mif\u001b[0m \u001b[0mself\u001b[0m\u001b[0;34m.\u001b[0m\u001b[0m_session\u001b[0m\u001b[0;34m.\u001b[0m\u001b[0m_created_with_new_api\u001b[0m\u001b[0;34m:\u001b[0m\u001b[0;34m\u001b[0m\u001b[0m\n\u001b[1;32m   1450\u001b[0m           return tf_session.TF_SessionRunCallable(\n\u001b[0;32m-> 1451\u001b[0;31m               self._session._session, self._handle, args, status, None)\n\u001b[0m\u001b[1;32m   1452\u001b[0m         \u001b[0;32melse\u001b[0m\u001b[0;34m:\u001b[0m\u001b[0;34m\u001b[0m\u001b[0m\n\u001b[1;32m   1453\u001b[0m           return tf_session.TF_DeprecatedSessionRunCallable(\n",
      "\u001b[0;31mKeyboardInterrupt\u001b[0m: "
     ]
    }
   ],
   "source": [
    "model.fit(\n",
    "    x_train,\n",
    "    y_train,\n",
    "    batch_size=512,\n",
    "    epochs=epochs,\n",
    "    validation_split=0.1,\n",
    "    verbose=1)"
   ]
  },
  {
   "cell_type": "markdown",
   "metadata": {},
   "source": [
    "### Step 5: Evaluate the model"
   ]
  },
  {
   "cell_type": "code",
   "execution_count": 65,
   "metadata": {},
   "outputs": [
    {
     "name": "stdout",
     "output_type": "stream",
     "text": [
      "train score is 0.00002; test score (MSE) is 0.00016\n"
     ]
    }
   ],
   "source": [
    "def model_score(model, x_train, y_train, x_test, y_test):\n",
    "    score_train = model.evaluate(x_train, y_train, verbose=0)\n",
    "    score_test = model.evaluate(x_test, y_test, verbose=0)\n",
    "    \n",
    "    print('train score is {:.5f}; test score (MSE) is {:.5f}'.format(score_train[0], score_test[0]))\n",
    "    return score_train[0], score_test[0]\n",
    "\n",
    "train_score, test_score = model_score(model, x_train, y_train, x_test, y_test)"
   ]
  },
  {
   "cell_type": "markdown",
   "metadata": {},
   "source": [
    "### Step 6: Visualize predictions and save model"
   ]
  },
  {
   "cell_type": "code",
   "execution_count": 66,
   "metadata": {},
   "outputs": [],
   "source": [
    "def percentage_difference(model, x_test, y_test):\n",
    "    \n",
    "    percentage_diff=[]\n",
    "    p = model.predict(X_test)\n",
    "    for u in range(len(y_test)):  # for each data index in test data\n",
    "        pr = p[u][0]              # pr = prediction on day u\n",
    "        percentage_diff.append((pr-y_test[u]/pr)*100)\n",
    "    return p"
   ]
  },
  {
   "cell_type": "code",
   "execution_count": 67,
   "metadata": {},
   "outputs": [],
   "source": [
    "p = percentage_difference(model, x_test, y_test)"
   ]
  },
  {
   "cell_type": "code",
   "execution_count": 93,
   "metadata": {},
   "outputs": [],
   "source": [
    "def denormalize(df, normalized_value):\n",
    "    \n",
    "    df = df['Adj Close'].values.reshape(-1, 1)  \n",
    "    # return df.shape, p.shape\n",
    "    min_max_scaler = preprocessing.MinMaxScaler()\n",
    "    min_max_scaler.fit_transform(df)\n",
    "    \n",
    "    # print('normalized value shape: ', normalized_value.shape)\n",
    "    normalized_value = normalized_value.reshape(-1,1)  # TODO: not sure why; but necessary; otherwise bug occurs\n",
    "    # print('normalized value shape, after reshape: ', normalized_value.shape)\n",
    "    new = min_max_scaler.inverse_transform(normalized_value)\n",
    "    return new"
   ]
  },
  {
   "cell_type": "code",
   "execution_count": 96,
   "metadata": {},
   "outputs": [],
   "source": [
    "def plot_result(stock_name, df, normalized_p, normalized_y_test):\n",
    "    new_p = denormalize(df, normalized_p)\n",
    "    new_y_test = denormalize(df, normalized_y_test)\n",
    "    \n",
    "    plt.plot(new_p, color='red', label='Prediction')\n",
    "    plt.plot(new_y_test, color='blue', label='Actual')\n",
    "    plt.legend(loc='best')\n",
    "    plt.title('The test result for {}'.format(stock_name))\n",
    "    plt.xlabel('Days')\n",
    "    plt.ylabel('Adjusted Close')\n",
    "    plt.show()"
   ]
  },
  {
   "cell_type": "code",
   "execution_count": 99,
   "metadata": {},
   "outputs": [
    {
     "data": {
      "image/png": "[encoded data removed]",
      "text/plain": [
       "<Figure size 432x288 with 1 Axes>"
      ]
     },
     "metadata": {},
     "output_type": "display_data"
    }
   ],
   "source": [
    "plot_result(stock_name, df, p, y_test)"
   ]
  },
  {
   "cell_type": "code",
   "execution_count": 119,
   "metadata": {},
   "outputs": [],
   "source": [
    "file_name = 'LSTM_stock_prediction_{}.h5'.format(str(datetime.date.today()))\n",
    "model.save(file_name)"
   ]
  },
  {
   "cell_type": "markdown",
   "metadata": {},
   "source": [
    "We can see the model did a quite good job in predicting the future stock trend!"
   ]
  },
  {
   "cell_type": "markdown",
   "metadata": {},
   "source": [
    "## Time to get your hands dirty"
   ]
  },
  {
   "cell_type": "markdown",
   "metadata": {},
   "source": [
    "- Draw the network flow\n",
    "- Find the optimal hyperparameters to have the lowest MSE score!\n",
    "    - number of neurons\n",
    "    - the length of window\n",
    "    - dropout rate\n",
    "    - network structure\n",
    "    - ..."
   ]
  },
  {
   "cell_type": "markdown",
   "metadata": {},
   "source": [
    "You may refer to this [link](https://github.com/BenjiKCF/Neural-Network-with-Financial-Time-Series-Data/blob/master/Old%20version/LSTM_Stock_prediction_20170508.ipynb) for reference."
   ]
  }
 ],
 "metadata": {
  "kernelspec": {
   "display_name": "Python 3",
   "language": "python",
   "name": "python3"
  },
  "language_info": {
   "codemirror_mode": {
    "name": "ipython",
    "version": 3
   },
   "file_extension": ".py",
   "mimetype": "text/x-python",
   "name": "python",
   "nbconvert_exporter": "python",
   "pygments_lexer": "ipython3",
   "version": "3.6.5"
  }
 },
 "nbformat": 4,
 "nbformat_minor": 2
}
