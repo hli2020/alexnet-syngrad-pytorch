{
 "cells": [
  {
   "cell_type": "markdown",
   "metadata": {},
   "source": [
    "Some of the following implementation derive from:\n",
    "[1] Official document of pytorch\n",
    "[2] LRN implementation [here](https://zhuanlan.zhihu.com/p/29786939) "
   ]
  },
  {
   "cell_type": "code",
   "execution_count": 12,
   "metadata": {
    "collapsed": true
   },
   "outputs": [],
   "source": [
    "import torch.nn as nn\n",
    "from torch.nn import functional as F\n",
    "from torch.autograd import Variable\n",
    "import torchvision.datasets as dset\n",
    "import torchvision.transforms as T\n",
    "import torch.utils.data as data\n",
    "import torch"
   ]
  },
  {
   "cell_type": "code",
   "execution_count": 2,
   "metadata": {
    "collapsed": true
   },
   "outputs": [],
   "source": [
    "# For now, there is no official implementation in pytorch.\n",
    "# see the pr here: https://github.com/pytorch/pytorch/issues/653\n",
    "class LRN(nn.Module):\n",
    "    def __init__(self, local_size=1, alpha=1.0, beta=0.75, ACROSS_CHANNELS=False):\n",
    "        super(LRN, self).__init__()\n",
    "        self.ACROSS_CHANNELS = ACROSS_CHANNELS\n",
    "        if self.ACROSS_CHANNELS:\n",
    "            self.average=nn.AvgPool3d(kernel_size=(local_size, 1, 1), #0.2.0_4会报错，需要在最新的分支上AvgPool3d才有padding参数\n",
    "                    stride=1,\n",
    "                    padding=(int((local_size-1.0)/2), 0, 0)) \n",
    "        else:\n",
    "            self.average=nn.AvgPool2d(kernel_size=local_size,\n",
    "                    stride=1,\n",
    "                    padding=int((local_size-1.0)/2))\n",
    "        self.alpha = alpha\n",
    "        self.beta = beta\n",
    "    \n",
    "    \n",
    "    def forward(self, x):\n",
    "        if self.ACROSS_CHANNELS:\n",
    "            div = x.pow(2).unsqueeze(1)\n",
    "            div = self.average(div).squeeze(1)\n",
    "            div = div.mul(self.alpha).add(1.0).pow(self.beta)#这里的1.0即为bias\n",
    "        else:\n",
    "            div = x.pow(2)\n",
    "            div = self.average(div)\n",
    "            div = div.mul(self.alpha).add(1.0).pow(self.beta)\n",
    "        x = x.div(div)\n",
    "        return x"
   ]
  },
  {
   "cell_type": "code",
   "execution_count": 3,
   "metadata": {
    "collapsed": true
   },
   "outputs": [],
   "source": [
    "class AlexNet(nn.Module):\n",
    "    def __init__(self, num_classes = 1000): #imagenet数量\n",
    "        super().__init__()\n",
    "        self.layer1 = nn.Sequential(\n",
    "            nn.Conv2d(in_channels=3, out_channels=96, kernel_size=11, stride=4),\n",
    "            nn.ReLU(inplace=True),\n",
    "            nn.MaxPool2d(kernel_size=3, stride=2),\n",
    "            LRN(local_size=5, alpha=1e-4, beta=0.75, ACROSS_CHANNELS=True)\n",
    "        )\n",
    "        \n",
    "        self.layer2 = nn.Sequential(\n",
    "            nn.Conv2d(in_channels=96, out_channels=256, kernel_size=5, groups=2, padding=2),\n",
    "            nn.ReLU(inplace=True),\n",
    "            nn.MaxPool2d(kernel_size=3, stride=2),\n",
    "            LRN(local_size=5, alpha=1e-4, beta=0.75, ACROSS_CHANNELS=True)\n",
    "        )\n",
    "        \n",
    "        self.layer3 = nn.Sequential(\n",
    "            nn.Conv2d(in_channels=256, out_channels=384, padding=1, kernel_size=3),\n",
    "            nn.ReLU(inplace=True)\n",
    "        )\n",
    "        self.layer4 = nn.Sequential(\n",
    "            nn.Conv2d(in_channels=384, out_channels=384, kernel_size=3, padding=1),\n",
    "            nn.ReLU(inplace=True)\n",
    "        )\n",
    "        \n",
    "        self.layer5 = nn.Sequential(\n",
    "            nn.Conv2d(in_channels=384, out_channels=256, kernel_size=3, padding=1),\n",
    "            nn.ReLU(inplace=True),\n",
    "            nn.MaxPool2d(kernel_size=3, stride=2)\n",
    "        )\n",
    "        \n",
    "         #需要针对上一层改变view\n",
    "        self.layer6 = nn.Sequential(\n",
    "            nn.Linear(in_features=6*6*256, out_features=4096),\n",
    "            nn.ReLU(inplace=True),\n",
    "            nn.Dropout()\n",
    "        )\n",
    "        self.layer7 = nn.Sequential(\n",
    "            nn.Linear(in_features=4096, out_features=4096),\n",
    "            nn.ReLU(inplace=True),\n",
    "            nn.Dropout()\n",
    "        )\n",
    "        \n",
    "        self.layer8 = nn.Linear(in_features=4096, out_features=num_classes)\n",
    "        \n",
    "    def forward(self, x):\n",
    "        x = self.layer5(self.layer4(self.layer3(self.layer2(self.layer1(x)))))\n",
    "        x = x.view(-1, 6*6*256)\n",
    "        x = self.layer8(self.layer7(self.layer6(x)))\n",
    "        \n",
    "        return x"
   ]
  },
  {
   "cell_type": "code",
   "execution_count": 10,
   "metadata": {
    "collapsed": true
   },
   "outputs": [],
   "source": [
    "class AlexNet_standard(nn.Module):\n",
    "\n",
    "    def __init__(self, num_classes=10):\n",
    "        super(AlexNet_standard, self).__init__()\n",
    "        self.features = nn.Sequential(\n",
    "            nn.Conv2d(3, 64, kernel_size=11, stride=4, padding=5),\n",
    "            nn.ReLU(inplace=True),\n",
    "            nn.MaxPool2d(kernel_size=2, stride=2),\n",
    "            nn.Conv2d(64, 192, kernel_size=5, padding=2),\n",
    "            nn.ReLU(inplace=True),\n",
    "            nn.MaxPool2d(kernel_size=2, stride=2),\n",
    "            nn.Conv2d(192, 384, kernel_size=3, padding=1),\n",
    "            nn.ReLU(inplace=True),\n",
    "            nn.Conv2d(384, 256, kernel_size=3, padding=1),\n",
    "            nn.ReLU(inplace=True),\n",
    "            nn.Conv2d(256, 256, kernel_size=3, padding=1),\n",
    "            nn.ReLU(inplace=True),\n",
    "            nn.MaxPool2d(kernel_size=2, stride=2),\n",
    "        )\n",
    "        self.classifier = nn.Linear(256, num_classes)\n",
    "\n",
    "    def forward(self, x):\n",
    "        x = self.features(x)\n",
    "        x = x.view(x.size(0), -1)\n",
    "        x = self.classifier(x)\n",
    "        return x"
   ]
  },
  {
   "cell_type": "code",
   "execution_count": 18,
   "metadata": {},
   "outputs": [],
   "source": [
    "# set all the hyper-params here\n",
    "batch_size = 64\n",
    "model_type = 'standard'  #'customized'"
   ]
  },
  {
   "cell_type": "code",
   "execution_count": 19,
   "metadata": {},
   "outputs": [
    {
     "name": "stdout",
     "output_type": "stream",
     "text": [
      "Files already downloaded and verified\n"
     ]
    }
   ],
   "source": [
    "# define dataset\n",
    "transform = T.Compose([\n",
    "                T.Resize(40),\n",
    "                T.RandomCrop(32),\n",
    "                T.RandomHorizontalFlip(),\n",
    "                T.ToTensor(),\n",
    "            ])\n",
    "dataset = dset.CIFAR10(root='~/project/ssd.pytorch/data', train=True, transform=transform, download=True)\n",
    "dataset.num_classes = 10\n",
    "dataset.name = 'cifar10'\n",
    "train_loader = data.DataLoader(dataset, batch_size, num_workers=2, shuffle=True)"
   ]
  },
  {
   "cell_type": "code",
   "execution_count": 20,
   "metadata": {},
   "outputs": [
    {
     "name": "stdout",
     "output_type": "stream",
     "text": [
      "use standard alexnet model\n",
      "USE GPU\n"
     ]
    }
   ],
   "source": [
    "def weight_init(m):\n",
    "    # 使用isinstance来判断m属于什么类型\n",
    "    if isinstance(m, nn.Conv2d):\n",
    "        import math\n",
    "        n = m.kernel_size[0] * m.kernel_size[1] * m.out_channels\n",
    "        m.weight.data.normal_(0, math.sqrt(2. / n))\n",
    "    elif isinstance(m, nn.BatchNorm2d):\n",
    "        # m中的weight，bias其实都是Variable，为了能学习参数以及后向传播\n",
    "        m.weight.data.fill_(1)\n",
    "        m.bias.data.zero_()\n",
    "\n",
    "# define model\n",
    "model = AlexNet(dataset.num_classes) if model_type == 'customized' else AlexNet_standard(dataset.num_classes)\n",
    "model_info = 'use customized model with LRN' if model_type == 'customized' else 'use standard alexnet model'\n",
    "print(model_info)\n",
    "model.apply(weight_init)\n",
    "\n",
    "use_gpu = torch.cuda.is_available()\n",
    "if use_gpu:\n",
    "    model = model.cuda()\n",
    "    print('USE GPU')\n",
    "else:\n",
    "    print('USE CPU')\n",
    "\n",
    "# define loss\n",
    "criterion = nn.CrossEntropyLoss(size_average=False)\n",
    "# optimizer = torch.optim.SGD(model.parameters(), lr=0.001)\n",
    "optimizer = torch.optim.Adam(model.parameters(), lr=1e-3, betas=(0.9, 0.99))"
   ]
  },
  {
   "cell_type": "code",
   "execution_count": 14,
   "metadata": {
    "scrolled": true
   },
   "outputs": [
    {
     "name": "stdout",
     "output_type": "stream",
     "text": [
      "Train Epoch: 1 [0/50000 (0%)]\tLoss: 147.737213\n",
      "Train Epoch: 1 [6400/50000 (13%)]\tLoss: 132.827103\n",
      "Train Epoch: 1 [12800/50000 (26%)]\tLoss: 122.093903\n",
      "Train Epoch: 1 [19200/50000 (38%)]\tLoss: 122.472214\n",
      "Train Epoch: 1 [25600/50000 (51%)]\tLoss: 115.400467\n",
      "Train Epoch: 1 [32000/50000 (64%)]\tLoss: 98.168434\n",
      "Train Epoch: 1 [38400/50000 (77%)]\tLoss: 115.772560\n",
      "Train Epoch: 1 [44800/50000 (90%)]\tLoss: 107.643631\n",
      "Train Epoch: 2 [0/50000 (0%)]\tLoss: 106.587204\n",
      "Train Epoch: 2 [6400/50000 (13%)]\tLoss: 110.358643\n",
      "Train Epoch: 2 [12800/50000 (26%)]\tLoss: 92.363129\n",
      "Train Epoch: 2 [19200/50000 (38%)]\tLoss: 102.576447\n",
      "Train Epoch: 2 [25600/50000 (51%)]\tLoss: 100.783295\n",
      "Train Epoch: 2 [32000/50000 (64%)]\tLoss: 120.763069\n",
      "Train Epoch: 2 [38400/50000 (77%)]\tLoss: 91.083870\n",
      "Train Epoch: 2 [44800/50000 (90%)]\tLoss: 95.947479\n",
      "Train Epoch: 3 [0/50000 (0%)]\tLoss: 95.810982\n",
      "Train Epoch: 3 [6400/50000 (13%)]\tLoss: 105.581528\n",
      "Train Epoch: 3 [12800/50000 (26%)]\tLoss: 89.783676\n",
      "Train Epoch: 3 [19200/50000 (38%)]\tLoss: 92.151863\n",
      "Train Epoch: 3 [25600/50000 (51%)]\tLoss: 99.629898\n",
      "Train Epoch: 3 [32000/50000 (64%)]\tLoss: 83.700768\n",
      "Train Epoch: 3 [38400/50000 (77%)]\tLoss: 87.406281\n",
      "Train Epoch: 3 [44800/50000 (90%)]\tLoss: 99.556786\n",
      "Train Epoch: 4 [0/50000 (0%)]\tLoss: 98.969505\n",
      "Train Epoch: 4 [6400/50000 (13%)]\tLoss: 74.417122\n",
      "Train Epoch: 4 [12800/50000 (26%)]\tLoss: 85.442200\n",
      "Train Epoch: 4 [19200/50000 (38%)]\tLoss: 84.124557\n",
      "Train Epoch: 4 [25600/50000 (51%)]\tLoss: 89.834160\n",
      "Train Epoch: 4 [32000/50000 (64%)]\tLoss: 96.448822\n",
      "Train Epoch: 4 [38400/50000 (77%)]\tLoss: 84.929138\n",
      "Train Epoch: 4 [44800/50000 (90%)]\tLoss: 91.247597\n"
     ]
    }
   ],
   "source": [
    "def train(epoch):\n",
    "    model.train()\n",
    "    for batch_idx, (data, target) in enumerate(train_loader):\n",
    "        if use_gpu:\n",
    "            data, target = data.cuda(), target.cuda()\n",
    "        data, target = Variable(data), Variable(target)\n",
    "        \n",
    "        optimizer.zero_grad()\n",
    "        output = model(data)\n",
    "        loss = criterion(output, target)\n",
    "        loss.backward()\n",
    "        optimizer.step()\n",
    "        \n",
    "        if batch_idx % 100 == 0:\n",
    "            print('Train Epoch: {} [{}/{} ({:.0f}%)]\\tLoss: {:.6f}'.format(\n",
    "                epoch, batch_idx * len(data), len(train_loader.dataset),\n",
    "                100. * batch_idx / len(train_loader), loss.data[0]))\n",
    "            \n",
    "\n",
    "for epoch in range(1, 5):\n",
    "    train(epoch)\n",
    "print('Training finished!')"
   ]
  },
  {
   "cell_type": "markdown",
   "metadata": {},
   "source": [
    "What we do above is just the very basic of the alexnet on CIFAR-10. There are defenitely many aspects that you can explore and we will cover some of the following topics (solutions, results) in the next week:\n",
    "[1] different learning strategies (adam, rmsprop, etc.)\n",
    "[2] bigger batch size really helpful?\n",
    "[3] remove FC and replace it with fully convolutional layers\n",
    "[4] data augmentation (e.g., multi-crop at test stage)\n",
    "\n",
    "TODO: embed visdom to visualize loss during training."
   ]
  }
 ],
 "metadata": {
  "kernelspec": {
   "display_name": "Python 3",
   "language": "python",
   "name": "python3"
  },
  "language_info": {
   "codemirror_mode": {
    "name": "ipython",
    "version": 3
   },
   "file_extension": ".py",
   "mimetype": "text/x-python",
   "name": "python",
   "nbconvert_exporter": "python",
   "pygments_lexer": "ipython3",
   "version": "3.6.1"
  }
 },
 "nbformat": 4,
 "nbformat_minor": 2
}
